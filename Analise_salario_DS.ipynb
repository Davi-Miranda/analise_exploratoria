{
 "cells": [
  {
   "cell_type": "markdown",
   "id": "3205bda6",
   "metadata": {},
   "source": [
    "# Análise exploratória de dados em Python"
   ]
  },
  {
   "cell_type": "markdown",
   "id": "8c405f0b",
   "metadata": {},
   "source": [
    "Este projeto visa analisar o datasets de salários de trabalhos em Ciência de Dados.<br>\n",
    "Vamos investigar algumas hipóteses juntos, que seria, observar o comportamento salarial das profissões de Ciêntista de Dados, Analista de dados, e Engenheiro de Dados, e compara-los.<br>\n",
    "\n",
    "Nesta análise você vai encontrar:<br>\n",
    "    Utilidades em Python;<br>\n",
    "    Analise exploratória dos dados;<br>\n",
    "    Visualização de dados.<br>"
   ]
  },
  {
   "cell_type": "markdown",
   "id": "f21584ac",
   "metadata": {},
   "source": [
    "## Importando as bibliotecas:"
   ]
  },
  {
   "cell_type": "code",
   "execution_count": 2,
   "id": "4789fa5f",
   "metadata": {},
   "outputs": [],
   "source": [
    "import numpy as np\n",
    "import pandas as pd\n",
    "import matplotlib.pyplot as plt\n",
    "import seaborn as sns\n",
    "plt.style.use('fivethirtyeight')\n",
    "import warnings\n",
    "warnings.filterwarnings('ignore')\n",
    "%matplotlib inline"
   ]
  },
  {
   "cell_type": "markdown",
   "id": "4daf83fa",
   "metadata": {},
   "source": [
    "## Importando os dados:"
   ]
  },
  {
   "cell_type": "code",
   "execution_count": 3,
   "id": "f278043a",
   "metadata": {},
   "outputs": [],
   "source": [
    "data = pd.read_csv('ds_salaries.csv')"
   ]
  },
  {
   "cell_type": "code",
   "execution_count": 3,
   "id": "536a65b4",
   "metadata": {},
   "outputs": [
    {
     "data": {
      "text/html": [
       "<div>\n",
       "<style scoped>\n",
       "    .dataframe tbody tr th:only-of-type {\n",
       "        vertical-align: middle;\n",
       "    }\n",
       "\n",
       "    .dataframe tbody tr th {\n",
       "        vertical-align: top;\n",
       "    }\n",
       "\n",
       "    .dataframe thead th {\n",
       "        text-align: right;\n",
       "    }\n",
       "</style>\n",
       "<table border=\"1\" class=\"dataframe\">\n",
       "  <thead>\n",
       "    <tr style=\"text-align: right;\">\n",
       "      <th></th>\n",
       "      <th>Unnamed: 0</th>\n",
       "      <th>work_year</th>\n",
       "      <th>experience_level</th>\n",
       "      <th>employment_type</th>\n",
       "      <th>job_title</th>\n",
       "      <th>salary</th>\n",
       "      <th>salary_currency</th>\n",
       "      <th>salary_in_usd</th>\n",
       "      <th>employee_residence</th>\n",
       "      <th>remote_ratio</th>\n",
       "      <th>company_location</th>\n",
       "      <th>company_size</th>\n",
       "    </tr>\n",
       "  </thead>\n",
       "  <tbody>\n",
       "    <tr>\n",
       "      <th>0</th>\n",
       "      <td>0</td>\n",
       "      <td>2020</td>\n",
       "      <td>MI</td>\n",
       "      <td>FT</td>\n",
       "      <td>Data Scientist</td>\n",
       "      <td>70000</td>\n",
       "      <td>EUR</td>\n",
       "      <td>79833</td>\n",
       "      <td>DE</td>\n",
       "      <td>0</td>\n",
       "      <td>DE</td>\n",
       "      <td>L</td>\n",
       "    </tr>\n",
       "    <tr>\n",
       "      <th>1</th>\n",
       "      <td>1</td>\n",
       "      <td>2020</td>\n",
       "      <td>SE</td>\n",
       "      <td>FT</td>\n",
       "      <td>Machine Learning Scientist</td>\n",
       "      <td>260000</td>\n",
       "      <td>USD</td>\n",
       "      <td>260000</td>\n",
       "      <td>JP</td>\n",
       "      <td>0</td>\n",
       "      <td>JP</td>\n",
       "      <td>S</td>\n",
       "    </tr>\n",
       "    <tr>\n",
       "      <th>2</th>\n",
       "      <td>2</td>\n",
       "      <td>2020</td>\n",
       "      <td>SE</td>\n",
       "      <td>FT</td>\n",
       "      <td>Big Data Engineer</td>\n",
       "      <td>85000</td>\n",
       "      <td>GBP</td>\n",
       "      <td>109024</td>\n",
       "      <td>GB</td>\n",
       "      <td>50</td>\n",
       "      <td>GB</td>\n",
       "      <td>M</td>\n",
       "    </tr>\n",
       "    <tr>\n",
       "      <th>3</th>\n",
       "      <td>3</td>\n",
       "      <td>2020</td>\n",
       "      <td>MI</td>\n",
       "      <td>FT</td>\n",
       "      <td>Product Data Analyst</td>\n",
       "      <td>20000</td>\n",
       "      <td>USD</td>\n",
       "      <td>20000</td>\n",
       "      <td>HN</td>\n",
       "      <td>0</td>\n",
       "      <td>HN</td>\n",
       "      <td>S</td>\n",
       "    </tr>\n",
       "    <tr>\n",
       "      <th>4</th>\n",
       "      <td>4</td>\n",
       "      <td>2020</td>\n",
       "      <td>SE</td>\n",
       "      <td>FT</td>\n",
       "      <td>Machine Learning Engineer</td>\n",
       "      <td>150000</td>\n",
       "      <td>USD</td>\n",
       "      <td>150000</td>\n",
       "      <td>US</td>\n",
       "      <td>50</td>\n",
       "      <td>US</td>\n",
       "      <td>L</td>\n",
       "    </tr>\n",
       "  </tbody>\n",
       "</table>\n",
       "</div>"
      ],
      "text/plain": [
       "   Unnamed: 0  work_year experience_level employment_type  \\\n",
       "0           0       2020               MI              FT   \n",
       "1           1       2020               SE              FT   \n",
       "2           2       2020               SE              FT   \n",
       "3           3       2020               MI              FT   \n",
       "4           4       2020               SE              FT   \n",
       "\n",
       "                    job_title  salary salary_currency  salary_in_usd  \\\n",
       "0              Data Scientist   70000             EUR          79833   \n",
       "1  Machine Learning Scientist  260000             USD         260000   \n",
       "2           Big Data Engineer   85000             GBP         109024   \n",
       "3        Product Data Analyst   20000             USD          20000   \n",
       "4   Machine Learning Engineer  150000             USD         150000   \n",
       "\n",
       "  employee_residence  remote_ratio company_location company_size  \n",
       "0                 DE             0               DE            L  \n",
       "1                 JP             0               JP            S  \n",
       "2                 GB            50               GB            M  \n",
       "3                 HN             0               HN            S  \n",
       "4                 US            50               US            L  "
      ]
     },
     "execution_count": 3,
     "metadata": {},
     "output_type": "execute_result"
    }
   ],
   "source": [
    "data.head()"
   ]
  },
  {
   "cell_type": "markdown",
   "id": "5369128d",
   "metadata": {},
   "source": [
    "## Observando os dados de maneira mais profunda:"
   ]
  },
  {
   "cell_type": "markdown",
   "id": "a18502ca",
   "metadata": {},
   "source": [
    "Nesta parte utilizei a função `.isnull()` em Python para observar se há valores missing no datasets. E observei também os tipos de variáveis presentes e o seus tipos."
   ]
  },
  {
   "cell_type": "markdown",
   "id": "38ef2519",
   "metadata": {},
   "source": [
    "#### Informações sobre os dados:"
   ]
  },
  {
   "cell_type": "markdown",
   "id": "f40eb6f5",
   "metadata": {},
   "source": [
    "O datasets contém dados de;<br>\n",
    ". work_year: O ano em que o salário foi pago;<br>\n",
    ". experience_level: O nível de experiência (que está dividido em nível básico, nível junior/médio, senior, e executivo/diretor;<br>\n",
    ". employment_type: O tipo de emprego para a função;<br>\n",
    ". job_title: O cargo;<br>\n",
    ". salary: O valor do salário bruto pago (está em valores da moeda local de pagamento);<br>\n",
    ". salary_currency: A moeda do salário pago como um código de moeda ISO 4217;<br>\n",
    ". salary in usd: O salário convertido para doláres;<br>\n",
    ". employee_residence: O principal país de residência do funcionário;<br>\n",
    ". remote_ratio: A quantidade total de trabalho feito remotamente;<br>\n",
    ". company_location: A localização da companhia;<br>\n",
    ". company_size: O número médio de pessoas que trabalharam para a empresa durante o ano: S menos de 50 funcionários (pequeno) M 50 a 250 funcionários (médio) L mais de 250 funcionários (grande).<br>\n",
    "\n"
   ]
  },
  {
   "cell_type": "code",
   "execution_count": 9,
   "id": "4f9162f5",
   "metadata": {},
   "outputs": [
    {
     "name": "stdout",
     "output_type": "stream",
     "text": [
      "<class 'pandas.core.frame.DataFrame'>\n",
      "RangeIndex: 607 entries, 0 to 606\n",
      "Data columns (total 12 columns):\n",
      " #   Column              Non-Null Count  Dtype \n",
      "---  ------              --------------  ----- \n",
      " 0   Unnamed: 0          607 non-null    int64 \n",
      " 1   work_year           607 non-null    int64 \n",
      " 2   experience_level    607 non-null    object\n",
      " 3   employment_type     607 non-null    object\n",
      " 4   job_title           607 non-null    object\n",
      " 5   salary              607 non-null    int64 \n",
      " 6   salary_currency     607 non-null    object\n",
      " 7   salary_in_usd       607 non-null    int64 \n",
      " 8   employee_residence  607 non-null    object\n",
      " 9   remote_ratio        607 non-null    int64 \n",
      " 10  company_location    607 non-null    object\n",
      " 11  company_size        607 non-null    object\n",
      "dtypes: int64(5), object(7)\n",
      "memory usage: 57.0+ KB\n"
     ]
    }
   ],
   "source": [
    "data.info()"
   ]
  },
  {
   "cell_type": "code",
   "execution_count": 4,
   "id": "7bd4c3ba",
   "metadata": {},
   "outputs": [
    {
     "data": {
      "text/plain": [
       "Unnamed: 0            0\n",
       "work_year             0\n",
       "experience_level      0\n",
       "employment_type       0\n",
       "job_title             0\n",
       "salary                0\n",
       "salary_currency       0\n",
       "salary_in_usd         0\n",
       "employee_residence    0\n",
       "remote_ratio          0\n",
       "company_location      0\n",
       "company_size          0\n",
       "dtype: int64"
      ]
     },
     "execution_count": 4,
     "metadata": {},
     "output_type": "execute_result"
    }
   ],
   "source": [
    "data.isnull().sum()"
   ]
  },
  {
   "cell_type": "code",
   "execution_count": 5,
   "id": "0603a541",
   "metadata": {},
   "outputs": [
    {
     "data": {
      "text/plain": [
       "object    7\n",
       "int64     5\n",
       "dtype: int64"
      ]
     },
     "execution_count": 5,
     "metadata": {},
     "output_type": "execute_result"
    }
   ],
   "source": [
    "data.dtypes.value_counts()"
   ]
  },
  {
   "cell_type": "markdown",
   "id": "47671e6a",
   "metadata": {},
   "source": [
    "## Análise exploratória:"
   ]
  },
  {
   "cell_type": "markdown",
   "id": "f58aca17",
   "metadata": {},
   "source": [
    "Foi realizado as estatísticas descritivas das variáveis, e a contagem das variáveis categóricas."
   ]
  },
  {
   "cell_type": "code",
   "execution_count": 7,
   "id": "ca8acc72",
   "metadata": {
    "scrolled": true
   },
   "outputs": [
    {
     "data": {
      "text/html": [
       "<div>\n",
       "<style scoped>\n",
       "    .dataframe tbody tr th:only-of-type {\n",
       "        vertical-align: middle;\n",
       "    }\n",
       "\n",
       "    .dataframe tbody tr th {\n",
       "        vertical-align: top;\n",
       "    }\n",
       "\n",
       "    .dataframe thead th {\n",
       "        text-align: right;\n",
       "    }\n",
       "</style>\n",
       "<table border=\"1\" class=\"dataframe\">\n",
       "  <thead>\n",
       "    <tr style=\"text-align: right;\">\n",
       "      <th></th>\n",
       "      <th>Unnamed: 0</th>\n",
       "      <th>work_year</th>\n",
       "      <th>salary</th>\n",
       "      <th>salary_in_usd</th>\n",
       "      <th>remote_ratio</th>\n",
       "    </tr>\n",
       "  </thead>\n",
       "  <tbody>\n",
       "    <tr>\n",
       "      <th>count</th>\n",
       "      <td>607.000000</td>\n",
       "      <td>607.000000</td>\n",
       "      <td>6.070000e+02</td>\n",
       "      <td>607.000000</td>\n",
       "      <td>607.00000</td>\n",
       "    </tr>\n",
       "    <tr>\n",
       "      <th>mean</th>\n",
       "      <td>303.000000</td>\n",
       "      <td>2021.405272</td>\n",
       "      <td>3.240001e+05</td>\n",
       "      <td>112297.869852</td>\n",
       "      <td>70.92257</td>\n",
       "    </tr>\n",
       "    <tr>\n",
       "      <th>std</th>\n",
       "      <td>175.370085</td>\n",
       "      <td>0.692133</td>\n",
       "      <td>1.544357e+06</td>\n",
       "      <td>70957.259411</td>\n",
       "      <td>40.70913</td>\n",
       "    </tr>\n",
       "    <tr>\n",
       "      <th>min</th>\n",
       "      <td>0.000000</td>\n",
       "      <td>2020.000000</td>\n",
       "      <td>4.000000e+03</td>\n",
       "      <td>2859.000000</td>\n",
       "      <td>0.00000</td>\n",
       "    </tr>\n",
       "    <tr>\n",
       "      <th>25%</th>\n",
       "      <td>151.500000</td>\n",
       "      <td>2021.000000</td>\n",
       "      <td>7.000000e+04</td>\n",
       "      <td>62726.000000</td>\n",
       "      <td>50.00000</td>\n",
       "    </tr>\n",
       "    <tr>\n",
       "      <th>50%</th>\n",
       "      <td>303.000000</td>\n",
       "      <td>2022.000000</td>\n",
       "      <td>1.150000e+05</td>\n",
       "      <td>101570.000000</td>\n",
       "      <td>100.00000</td>\n",
       "    </tr>\n",
       "    <tr>\n",
       "      <th>75%</th>\n",
       "      <td>454.500000</td>\n",
       "      <td>2022.000000</td>\n",
       "      <td>1.650000e+05</td>\n",
       "      <td>150000.000000</td>\n",
       "      <td>100.00000</td>\n",
       "    </tr>\n",
       "    <tr>\n",
       "      <th>max</th>\n",
       "      <td>606.000000</td>\n",
       "      <td>2022.000000</td>\n",
       "      <td>3.040000e+07</td>\n",
       "      <td>600000.000000</td>\n",
       "      <td>100.00000</td>\n",
       "    </tr>\n",
       "  </tbody>\n",
       "</table>\n",
       "</div>"
      ],
      "text/plain": [
       "       Unnamed: 0    work_year        salary  salary_in_usd  remote_ratio\n",
       "count  607.000000   607.000000  6.070000e+02     607.000000     607.00000\n",
       "mean   303.000000  2021.405272  3.240001e+05  112297.869852      70.92257\n",
       "std    175.370085     0.692133  1.544357e+06   70957.259411      40.70913\n",
       "min      0.000000  2020.000000  4.000000e+03    2859.000000       0.00000\n",
       "25%    151.500000  2021.000000  7.000000e+04   62726.000000      50.00000\n",
       "50%    303.000000  2022.000000  1.150000e+05  101570.000000     100.00000\n",
       "75%    454.500000  2022.000000  1.650000e+05  150000.000000     100.00000\n",
       "max    606.000000  2022.000000  3.040000e+07  600000.000000     100.00000"
      ]
     },
     "execution_count": 7,
     "metadata": {},
     "output_type": "execute_result"
    }
   ],
   "source": [
    "data.describe()"
   ]
  },
  {
   "cell_type": "code",
   "execution_count": 20,
   "id": "960905d7",
   "metadata": {},
   "outputs": [
    {
     "data": {
      "text/plain": [
       "SE    280\n",
       "MI    213\n",
       "EN     88\n",
       "EX     26\n",
       "Name: experience_level, dtype: int64"
      ]
     },
     "execution_count": 20,
     "metadata": {},
     "output_type": "execute_result"
    }
   ],
   "source": [
    "data['experience_level'].value_counts()"
   ]
  },
  {
   "cell_type": "code",
   "execution_count": 4,
   "id": "ea79075d",
   "metadata": {},
   "outputs": [
    {
     "data": {
      "text/plain": [
       "US    0.546952\n",
       "GB    0.072488\n",
       "IN    0.049423\n",
       "CA    0.047776\n",
       "DE    0.041186\n",
       "FR    0.029654\n",
       "ES    0.024712\n",
       "GR    0.021417\n",
       "JP    0.011532\n",
       "PT    0.009885\n",
       "BR    0.009885\n",
       "PK    0.009885\n",
       "NL    0.008237\n",
       "PL    0.006590\n",
       "IT    0.006590\n",
       "RU    0.006590\n",
       "AE    0.004942\n",
       "AT    0.004942\n",
       "VN    0.004942\n",
       "TR    0.004942\n",
       "AU    0.004942\n",
       "RO    0.003295\n",
       "BE    0.003295\n",
       "SG    0.003295\n",
       "SI    0.003295\n",
       "DK    0.003295\n",
       "HU    0.003295\n",
       "NG    0.003295\n",
       "MX    0.003295\n",
       "BO    0.001647\n",
       "MY    0.001647\n",
       "TN    0.001647\n",
       "IE    0.001647\n",
       "DZ    0.001647\n",
       "AR    0.001647\n",
       "CZ    0.001647\n",
       "JE    0.001647\n",
       "LU    0.001647\n",
       "PR    0.001647\n",
       "RS    0.001647\n",
       "EE    0.001647\n",
       "CL    0.001647\n",
       "HK    0.001647\n",
       "KE    0.001647\n",
       "MD    0.001647\n",
       "CO    0.001647\n",
       "IR    0.001647\n",
       "CN    0.001647\n",
       "MT    0.001647\n",
       "UA    0.001647\n",
       "IQ    0.001647\n",
       "HN    0.001647\n",
       "BG    0.001647\n",
       "HR    0.001647\n",
       "PH    0.001647\n",
       "NZ    0.001647\n",
       "CH    0.001647\n",
       "Name: employee_residence, dtype: float64"
      ]
     },
     "execution_count": 4,
     "metadata": {},
     "output_type": "execute_result"
    }
   ],
   "source": [
    "data['employee_residence'].value_counts(1)"
   ]
  },
  {
   "cell_type": "code",
   "execution_count": 6,
   "id": "76b51a82",
   "metadata": {},
   "outputs": [
    {
     "data": {
      "text/plain": [
       "Data Scientist                143\n",
       "Data Engineer                 132\n",
       "Data Analyst                   97\n",
       "Machine Learning Engineer      41\n",
       "Research Scientist             16\n",
       "Data Science Manager           12\n",
       "Data Architect                 11\n",
       "Big Data Engineer               8\n",
       "Machine Learning Scientist      8\n",
       "Principal Data Scientist        7\n",
       "Name: job_title, dtype: int64"
      ]
     },
     "execution_count": 6,
     "metadata": {},
     "output_type": "execute_result"
    }
   ],
   "source": [
    "data['job_title'].value_counts().head(10)"
   ]
  },
  {
   "cell_type": "code",
   "execution_count": 26,
   "id": "7ac7d651",
   "metadata": {},
   "outputs": [
    {
     "data": {
      "text/plain": [
       "FT    588\n",
       "PT     10\n",
       "CT      5\n",
       "FL      4\n",
       "Name: employment_type, dtype: int64"
      ]
     },
     "execution_count": 26,
     "metadata": {},
     "output_type": "execute_result"
    }
   ],
   "source": [
    "data['employment_type'].value_counts()"
   ]
  },
  {
   "cell_type": "code",
   "execution_count": 7,
   "id": "29f83692",
   "metadata": {},
   "outputs": [
    {
     "data": {
      "text/plain": [
       "US    332\n",
       "GB     44\n",
       "IN     30\n",
       "CA     29\n",
       "DE     25\n",
       "FR     18\n",
       "ES     15\n",
       "GR     13\n",
       "JP      7\n",
       "PT      6\n",
       "Name: employee_residence, dtype: int64"
      ]
     },
     "execution_count": 7,
     "metadata": {},
     "output_type": "execute_result"
    }
   ],
   "source": [
    "data['employee_residence'].value_counts().head(10)"
   ]
  },
  {
   "cell_type": "code",
   "execution_count": 8,
   "id": "fe92c4a5",
   "metadata": {},
   "outputs": [
    {
     "data": {
      "text/plain": [
       "US    355\n",
       "GB     47\n",
       "CA     30\n",
       "DE     28\n",
       "IN     24\n",
       "FR     15\n",
       "ES     14\n",
       "GR     11\n",
       "JP      6\n",
       "NL      4\n",
       "Name: company_location, dtype: int64"
      ]
     },
     "execution_count": 8,
     "metadata": {},
     "output_type": "execute_result"
    }
   ],
   "source": [
    "data['company_location'].value_counts().head(10)"
   ]
  },
  {
   "cell_type": "code",
   "execution_count": 29,
   "id": "2ce9bb22",
   "metadata": {},
   "outputs": [
    {
     "data": {
      "text/plain": [
       "M    326\n",
       "L    198\n",
       "S     83\n",
       "Name: company_size, dtype: int64"
      ]
     },
     "execution_count": 29,
     "metadata": {},
     "output_type": "execute_result"
    }
   ],
   "source": [
    "data['company_size'].value_counts()"
   ]
  },
  {
   "cell_type": "code",
   "execution_count": 24,
   "id": "4624be49",
   "metadata": {},
   "outputs": [
    {
     "data": {
      "text/plain": [
       "company_size  company_location\n",
       "L             US                  106\n",
       "              IN                   13\n",
       "              DE                   12\n",
       "              CA                   11\n",
       "              GB                   11\n",
       "                                 ... \n",
       "S             KE                    1\n",
       "              LU                    1\n",
       "              MD                    1\n",
       "              NG                    1\n",
       "              NZ                    1\n",
       "Name: company_location, Length: 84, dtype: int64"
      ]
     },
     "execution_count": 24,
     "metadata": {},
     "output_type": "execute_result"
    }
   ],
   "source": [
    "data.groupby('company_size')['company_location'].value_counts()"
   ]
  },
  {
   "cell_type": "code",
   "execution_count": 21,
   "id": "c887ef74",
   "metadata": {},
   "outputs": [
    {
     "data": {
      "text/html": [
       "<div>\n",
       "<style scoped>\n",
       "    .dataframe tbody tr th:only-of-type {\n",
       "        vertical-align: middle;\n",
       "    }\n",
       "\n",
       "    .dataframe tbody tr th {\n",
       "        vertical-align: top;\n",
       "    }\n",
       "\n",
       "    .dataframe thead th {\n",
       "        text-align: right;\n",
       "    }\n",
       "</style>\n",
       "<table border=\"1\" class=\"dataframe\">\n",
       "  <thead>\n",
       "    <tr style=\"text-align: right;\">\n",
       "      <th></th>\n",
       "      <th>Unnamed: 0</th>\n",
       "      <th>work_year</th>\n",
       "      <th>experience_level</th>\n",
       "      <th>employment_type</th>\n",
       "      <th>job_title</th>\n",
       "      <th>salary</th>\n",
       "      <th>salary_currency</th>\n",
       "      <th>salary_in_usd</th>\n",
       "      <th>employee_residence</th>\n",
       "      <th>remote_ratio</th>\n",
       "      <th>company_location</th>\n",
       "      <th>company_size</th>\n",
       "    </tr>\n",
       "  </thead>\n",
       "  <tbody>\n",
       "    <tr>\n",
       "      <th>252</th>\n",
       "      <td>252</td>\n",
       "      <td>2021</td>\n",
       "      <td>EX</td>\n",
       "      <td>FT</td>\n",
       "      <td>Principal Data Engineer</td>\n",
       "      <td>600000</td>\n",
       "      <td>USD</td>\n",
       "      <td>600000</td>\n",
       "      <td>US</td>\n",
       "      <td>100</td>\n",
       "      <td>US</td>\n",
       "      <td>L</td>\n",
       "    </tr>\n",
       "  </tbody>\n",
       "</table>\n",
       "</div>"
      ],
      "text/plain": [
       "     Unnamed: 0  work_year experience_level employment_type  \\\n",
       "252         252       2021               EX              FT   \n",
       "\n",
       "                   job_title  salary salary_currency  salary_in_usd  \\\n",
       "252  Principal Data Engineer  600000             USD         600000   \n",
       "\n",
       "    employee_residence  remote_ratio company_location company_size  \n",
       "252                 US           100               US            L  "
      ]
     },
     "execution_count": 21,
     "metadata": {},
     "output_type": "execute_result"
    }
   ],
   "source": [
    "data.query('salary_in_usd == 600000.000000')"
   ]
  },
  {
   "cell_type": "markdown",
   "id": "ae68927b",
   "metadata": {},
   "source": [
    "O maior salario para a base é para Principal Data Enginner, com nível de experiência executivo/diretor, exercendo o trabalho em uma empresa qualificada como grande, e com localidade nos Estado Unidos."
   ]
  },
  {
   "cell_type": "code",
   "execution_count": 20,
   "id": "48b2e370",
   "metadata": {},
   "outputs": [
    {
     "data": {
      "text/html": [
       "<div>\n",
       "<style scoped>\n",
       "    .dataframe tbody tr th:only-of-type {\n",
       "        vertical-align: middle;\n",
       "    }\n",
       "\n",
       "    .dataframe tbody tr th {\n",
       "        vertical-align: top;\n",
       "    }\n",
       "\n",
       "    .dataframe thead th {\n",
       "        text-align: right;\n",
       "    }\n",
       "</style>\n",
       "<table border=\"1\" class=\"dataframe\">\n",
       "  <thead>\n",
       "    <tr style=\"text-align: right;\">\n",
       "      <th></th>\n",
       "      <th>Unnamed: 0</th>\n",
       "      <th>work_year</th>\n",
       "      <th>experience_level</th>\n",
       "      <th>employment_type</th>\n",
       "      <th>job_title</th>\n",
       "      <th>salary</th>\n",
       "      <th>salary_currency</th>\n",
       "      <th>salary_in_usd</th>\n",
       "      <th>employee_residence</th>\n",
       "      <th>remote_ratio</th>\n",
       "      <th>company_location</th>\n",
       "      <th>company_size</th>\n",
       "    </tr>\n",
       "  </thead>\n",
       "  <tbody>\n",
       "    <tr>\n",
       "      <th>176</th>\n",
       "      <td>176</td>\n",
       "      <td>2021</td>\n",
       "      <td>MI</td>\n",
       "      <td>FT</td>\n",
       "      <td>Data Scientist</td>\n",
       "      <td>58000</td>\n",
       "      <td>MXN</td>\n",
       "      <td>2859</td>\n",
       "      <td>MX</td>\n",
       "      <td>0</td>\n",
       "      <td>MX</td>\n",
       "      <td>S</td>\n",
       "    </tr>\n",
       "  </tbody>\n",
       "</table>\n",
       "</div>"
      ],
      "text/plain": [
       "     Unnamed: 0  work_year experience_level employment_type       job_title  \\\n",
       "176         176       2021               MI              FT  Data Scientist   \n",
       "\n",
       "     salary salary_currency  salary_in_usd employee_residence  remote_ratio  \\\n",
       "176   58000             MXN           2859                 MX             0   \n",
       "\n",
       "    company_location company_size  \n",
       "176               MX            S  "
      ]
     },
     "execution_count": 20,
     "metadata": {},
     "output_type": "execute_result"
    }
   ],
   "source": [
    "data.query('salary_in_usd == 2859.000000')"
   ]
  },
  {
   "cell_type": "markdown",
   "id": "79f0842c",
   "metadata": {},
   "source": [
    "O menor salário da base é para Data Scientist, com um nível de experiência Junior, em uma empresa de porte pequeno, localizada no México."
   ]
  },
  {
   "cell_type": "code",
   "execution_count": 33,
   "id": "50e072b1",
   "metadata": {},
   "outputs": [
    {
     "data": {
      "text/plain": [
       "count       607.000000\n",
       "mean     112297.869852\n",
       "std       70957.259411\n",
       "min        2859.000000\n",
       "25%       62726.000000\n",
       "50%      101570.000000\n",
       "75%      150000.000000\n",
       "max      600000.000000\n",
       "Name: salary_in_usd, dtype: float64"
      ]
     },
     "execution_count": 33,
     "metadata": {},
     "output_type": "execute_result"
    }
   ],
   "source": [
    "data['salary_in_usd'].describe()"
   ]
  },
  {
   "cell_type": "markdown",
   "id": "2bd1dc98",
   "metadata": {},
   "source": [
    "Tem-se as estatísticas descritivas para o salário já convertido para dolares. Nota-se o desvio padrão do salário, que demonstra os dados não muito dispersos da média, apesar da ocorrência de alguns outliers."
   ]
  },
  {
   "cell_type": "markdown",
   "id": "1ceff761",
   "metadata": {},
   "source": [
    "## Visualização dos dados:"
   ]
  },
  {
   "cell_type": "markdown",
   "id": "1417936a",
   "metadata": {},
   "source": [
    "Foram gerados tipos diferentes de gráficos (histograma, boxplot, e gráfico de colunas) para o entendimento da distribuição dos dados, e analise das categorias."
   ]
  },
  {
   "cell_type": "markdown",
   "id": "230e6b20",
   "metadata": {},
   "source": [
    "#### Histograma com estimativa de densidade"
   ]
  },
  {
   "cell_type": "code",
   "execution_count": 18,
   "id": "94c7495c",
   "metadata": {},
   "outputs": [
    {
     "data": {
      "image/png": "[encoded data removed]",
      "text/plain": [
       "<Figure size 432x288 with 1 Axes>"
      ]
     },
     "metadata": {
      "needs_background": "light"
     },
     "output_type": "display_data"
    }
   ],
   "source": [
    "sns.distplot(data['salary_in_usd']);"
   ]
  },
  {
   "cell_type": "markdown",
   "id": "b036a0e0",
   "metadata": {},
   "source": [
    "Observa-se que o nível salarial está bem concentrado na faixa dos 3000 dolares a um pouco mais de 200000 dolares."
   ]
  },
  {
   "cell_type": "markdown",
   "id": "ea3e4d03",
   "metadata": {},
   "source": [
    "#### Avaliando a simetria dos dados: curtose, distorções"
   ]
  },
  {
   "cell_type": "code",
   "execution_count": 36,
   "id": "b0f33f43",
   "metadata": {},
   "outputs": [
    {
     "name": "stdout",
     "output_type": "stream",
     "text": [
      "distorção: 1.667545\n",
      "curtose: 6.353795\n"
     ]
    }
   ],
   "source": [
    "print('distorção: %f' % data['salary_in_usd'].skew())\n",
    "print('curtose: %f' % data['salary_in_usd'].kurt())"
   ]
  },
  {
   "cell_type": "markdown",
   "id": "30b46bb4",
   "metadata": {},
   "source": [
    "Como a curtose é maior de que 3, parece que os dados do salários representam uma distribuição normal."
   ]
  },
  {
   "cell_type": "markdown",
   "id": "cb67ca23",
   "metadata": {},
   "source": [
    "### Observando as relações do salários com outras variáveis:"
   ]
  },
  {
   "cell_type": "markdown",
   "id": "d236e472",
   "metadata": {},
   "source": [
    "#####  A relação dos salários com o nível de experiência (boxplot)"
   ]
  },
  {
   "cell_type": "code",
   "execution_count": 19,
   "id": "1688f50d",
   "metadata": {},
   "outputs": [
    {
     "data": {
      "image/png": "[encoded data removed]",
      "text/plain": [
       "<Figure size 576x432 with 1 Axes>"
      ]
     },
     "metadata": {
      "needs_background": "light"
     },
     "output_type": "display_data"
    }
   ],
   "source": [
    "var = 'experience_level'\n",
    "dt = pd.concat([data['salary_in_usd'], data[var]], axis=1)\n",
    "f, ax = plt.subplots(figsize=(8,6))\n",
    "fig = sns.boxplot(x=var, y='salary_in_usd', data = dt)\n",
    "fig.axis(ymin=0, ymax=600000.000000 );"
   ]
  },
  {
   "cell_type": "markdown",
   "id": "227f9013",
   "metadata": {},
   "source": [
    "Observa-se que a mediana do nível senior para executivo/diretor encontra-se bem próxima.<br>\n",
    "O nível de experiência junior/médio possui dois outliers à cima, até de salarios de senior.<br>\n",
    "E o nível de executivo/diretor possuí um outlier que destoa muito a cima dos demais.<br>\n",
    "Observa-se também o salto do salário médio do nível básico, e do nível junior para o valor mediano do nível senior.<br>"
   ]
  },
  {
   "cell_type": "markdown",
   "id": "d85356a9",
   "metadata": {},
   "source": [
    "#### Gráfico de colunas representando o valor média de cada nível de experiência"
   ]
  },
  {
   "cell_type": "code",
   "execution_count": 16,
   "id": "9e330977",
   "metadata": {
    "scrolled": true
   },
   "outputs": [
    {
     "data": {
      "image/png": "[encoded data removed]",
      "text/plain": [
       "<Figure size 432x288 with 1 Axes>"
      ]
     },
     "metadata": {
      "needs_background": "light"
     },
     "output_type": "display_data"
    }
   ],
   "source": [
    "data.groupby('experience_level')['salary_in_usd'].mean().plot.bar();"
   ]
  },
  {
   "cell_type": "markdown",
   "id": "0d3a001d",
   "metadata": {},
   "source": [
    "Verifica-se a importância de um elevado nível de experiência para se alcançar salários em níveis cada vez maiores."
   ]
  },
  {
   "cell_type": "markdown",
   "id": "325768fd",
   "metadata": {},
   "source": [
    "### Salario e o tipo de emprego/profissão dentro da área de dados:"
   ]
  },
  {
   "cell_type": "code",
   "execution_count": 44,
   "id": "b8f3ca4a",
   "metadata": {},
   "outputs": [
    {
     "data": {
      "image/png": "[encoded data removed]",
      "text/plain": [
       "<Figure size 1152x576 with 1 Axes>"
      ]
     },
     "metadata": {
      "needs_background": "light"
     },
     "output_type": "display_data"
    }
   ],
   "source": [
    "var_2 = 'job_title'\n",
    "dw = pd.concat([data['salary_in_usd'], data[var_2]], axis = 1)\n",
    "f, ax = plt.subplots(figsize=(16, 8))\n",
    "fig = sns.boxplot(x=var_2, y='salary_in_usd', data=dw)\n",
    "fig.axis(ymin=0, ymax=700000.000000);\n",
    "plt.xticks(rotation=90);"
   ]
  },
  {
   "cell_type": "markdown",
   "id": "4e351d4f",
   "metadata": {},
   "source": [
    "Observa-se que para o trabalho de ciêntista de dados a metade das pessoas da base de dados recebem 100000 dolares.<br>\n",
    "Principal Enginner possuí apenas 3 pessoas na base, por isso se destoa tanto dos demais.<br>\n",
    "A partir dos 25% maiores salarios de cientista de dados em comparação a analista de dados, observa-se uma diferença grande entre as profissões.<br>\n",
    "Observa-se também uma menor variabilidade dos salários para analista de dados.<br>\n",
    "Já para engenheiro de dados, a sua mediana salarial está próxima de cientista de dados.<br>\n",
    "E para engenheiro de dados observa-se uma grande diferença dos 25% que recebem menores salarios para os 25% que recebem maiores salarios.<br>"
   ]
  },
  {
   "cell_type": "markdown",
   "id": "23892729",
   "metadata": {},
   "source": [
    "## Conclusão:\n",
    "\n",
    "Verifica-se uma concentração muito grande de trabalhadores na área de dados nos Estados Unidos.<br>\n",
    "Nota-se também uma concentração das grandes empresas nos EUA.<br>\n",
    "Em relação ao níveis salarias observa-se que Ciêntista de Dados e Engenheiro de Dados detém uma parcela significativa dos maiores salários para a área. E que o nível de experiência é preponderante para o ganho de maiores salarios."
   ]
  }
 ],
 "metadata": {
  "kernelspec": {
   "display_name": "Python 3 (ipykernel)",
   "language": "python",
   "name": "python3"
  },
  "language_info": {
   "codemirror_mode": {
    "name": "ipython",
    "version": 3
   },
   "file_extension": ".py",
   "mimetype": "text/x-python",
   "name": "python",
   "nbconvert_exporter": "python",
   "pygments_lexer": "ipython3",
   "version": "3.9.12"
  }
 },
 "nbformat": 4,
 "nbformat_minor": 5
}
